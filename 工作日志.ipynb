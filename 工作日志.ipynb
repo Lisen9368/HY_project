{
 "cells": [
  {
   "cell_type": "markdown",
   "metadata": {},
   "source": [
    "# 日期20200416\n",
    "## 1上传了HY1B归一化天顶反射率读取程序：       ###HY1B_TOA_nreflectance_timeseries.py（HY1B_TOA_nreflectance_timeseries.ipynb）\n",
    "## 2和王建茹讨论了MODIS订单式自动下载程序的编写\n",
    "## 3请李勇上传了seadas处理程序，用以李森、吉泓任后续处理MODIS数据\n",
    "## 4下载了Redhat8（7.3版本找不到）\n",
    "## 5HY1A程序转到22%\n",
    "## 6HY1B数据拷贝中"
   ]
  },
  {
   "cell_type": "code",
   "execution_count": null,
   "metadata": {},
   "outputs": [],
   "source": []
  }
 ],
 "metadata": {
  "kernelspec": {
   "display_name": "Python 3",
   "language": "python",
   "name": "python3"
  },
  "language_info": {
   "codemirror_mode": {
    "name": "ipython",
    "version": 3
   },
   "file_extension": ".py",
   "mimetype": "text/x-python",
   "name": "python",
   "nbconvert_exporter": "python",
   "pygments_lexer": "ipython3",
   "version": "3.6.5"
  }
 },
 "nbformat": 4,
 "nbformat_minor": 2
}
